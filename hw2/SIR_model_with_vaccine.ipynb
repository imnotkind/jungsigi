{
 "cells": [
  {
   "cell_type": "markdown",
   "metadata": {},
   "source": [
    "# SIR model with vaccine\n",
    "\n",
    "20160463 성해빈"
   ]
  },
  {
   "cell_type": "code",
   "execution_count": 1,
   "metadata": {},
   "outputs": [],
   "source": [
    "# We will be using numpy and networkx for our function\n",
    "import networkx as nx\n",
    "import numpy as np"
   ]
  },
  {
   "cell_type": "code",
   "execution_count": 2,
   "metadata": {},
   "outputs": [],
   "source": [
    "# There will be 5 parameters for the model:\n",
    "# (graph) The networkx graph \n",
    "# (tmax) The maximum time that we will run the model \n",
    "# (beta) The infection probability \n",
    "# (gamma) The recover probability\n",
    "# (zeta) The susceptible probability\n",
    "# (initial_inf) The initial fraction of infected nodes\n",
    "def SIRS_vaccine(graph, tmax, beta, gamma, zeta, initial_inf):\n",
    "    # set random nodes to get infected\n",
    "    inf_o = set(np.random.choice(graph.nodes(), size=int(len(graph) * initial_inf), replace=False))\n",
    "    nx.set_node_attributes(graph, {node: ([1] if node in inf_o else [0]) for node in graph.nodes()},'inf')\n",
    "    for t in range(tmax):\n",
    "        # VACCINE : pick susceptible node that has the most possibility to get infected, change to recovered\n",
    "        max_inf_neighbor_node, max_inf_neighbor_frac = None, None\n",
    "        for node in graph.nodes():\n",
    "            if graph.nodes[node]['inf'][t] == 0: # susceptible(0)\n",
    "                num_inf_neighbors = np.sum([ graph.nodes[neighbor]['inf'][t] == 1 for neighbor in graph.neighbors(node)])\n",
    "                frac_inf_neighbors = num_inf_neighbors / len(list(graph.neighbors(node)))\n",
    "                if max_inf_neighbor_node == None:\n",
    "                    max_inf_neighbor_frac = frac_inf_neighbors\n",
    "                    max_inf_neighbor_node = node\n",
    "                elif max_inf_neighbor_frac < frac_inf_neighbors:\n",
    "                    max_inf_neighbor_frac = frac_inf_neighbors\n",
    "                    max_inf_neighbor_node = node\n",
    "        if max_inf_neighbor_node != None:\n",
    "            graph.nodes[max_inf_neighbor_node]['inf'][t] = 2 # recovered(2)\n",
    "        \n",
    "        for node in graph.nodes():\n",
    "            if graph.nodes[node]['inf'][t] == 0: # susceptible(0)\n",
    "                # First determine how many infected neighbors the node has at time t:\n",
    "                neighbors = list(graph.neighbors(node))\n",
    "                num_inf_neighbors = np.sum([ graph.nodes[neighbor]['inf'][t] == 1 for neighbor in neighbors])\n",
    "\n",
    "                if np.random.random() < num_inf_neighbors / len(neighbors) * beta:\n",
    "                    # If infection occurs we add a 1 to the state list of the node.\n",
    "                    # Note that by doing this we don't change how the other \n",
    "                    # nodes update, because they will be using time index t not t+1\n",
    "                    graph.nodes[node]['inf'].append(1)\n",
    "                else:\n",
    "                    # If no infection occurs, then just append the current state\n",
    "                    graph.nodes[node]['inf'].append(graph.nodes[node]['inf'][t])\n",
    "                    \n",
    "            # if the node is already infected it can heal by probability gamma\n",
    "            elif graph.nodes[node]['inf'][t] == 1: # infectious(1)\n",
    "                if np.random.random() < gamma:\n",
    "                    # heal\n",
    "                    graph.nodes[node]['inf'].append(2) # recovered(2)\n",
    "                else:\n",
    "                    # no heal, just append current state\n",
    "                    graph.nodes[node]['inf'].append(graph.nodes[node]['inf'][t])\n",
    "            else: # recovered(2)\n",
    "                if np.random.random() < zeta:\n",
    "                    graph.nodes[node]['inf'].append(0) # susceptible(0)\n",
    "                else:\n",
    "                    # just append current state\n",
    "                    graph.nodes[node]['inf'].append(graph.nodes[node]['inf'][t])\n",
    "                \n",
    "                \n",
    "    # Once the updates have run their course for all nodes up to tmax we can\n",
    "    # return the time-series of the fraction of susceptible, infectious, recovered nodes\n",
    "    return [ np.sum([ graph.nodes[node]['inf'][t] == 0 for node in graph.nodes() ]) / len(graph.nodes()) for t in range(tmax)], \\\n",
    "        [ np.sum([ graph.nodes[node]['inf'][t] == 1 for node in graph.nodes() ]) / len(graph.nodes()) for t in range(tmax)], \\\n",
    "        [ np.sum([ graph.nodes[node]['inf'][t] == 2 for node in graph.nodes() ]) / len(graph.nodes()) for t in range(tmax)]"
   ]
  },
  {
   "cell_type": "code",
   "execution_count": 3,
   "metadata": {},
   "outputs": [],
   "source": [
    "# Now lets plot it\n",
    "%matplotlib inline\n",
    "import matplotlib.pyplot as plt"
   ]
  },
  {
   "cell_type": "code",
   "execution_count": 4,
   "metadata": {},
   "outputs": [
    {
     "data": {
      "text/plain": [
       "<matplotlib.legend.Legend at 0x236797b5e80>"
      ]
     },
     "execution_count": 4,
     "metadata": {},
     "output_type": "execute_result"
    },
    {
     "data": {
      "image/png": "[encoded data removed]",
      "text/plain": [
       "<Figure size 432x288 with 1 Axes>"
      ]
     },
     "metadata": {
      "needs_background": "light"
     },
     "output_type": "display_data"
    }
   ],
   "source": [
    "ba_graph = nx.barabasi_albert_graph(1000, 53)\n",
    "\n",
    "sample_run = 10\n",
    "time = 100\n",
    "sample_mean = np.mean([SIRS_vaccine(ba_graph, tmax=time, beta=0.152, gamma=0.053, zeta=0, initial_inf=0.1) for i in range(sample_run)], axis=0)\n",
    "plt.title(\"SIR with vaccine : Barabasi Albert Graph\")\n",
    "plt.plot(sample_mean[0], label=\"S\", color=\"red\")\n",
    "plt.plot(sample_mean[1], label=\"I\", color=\"green\")\n",
    "plt.plot(sample_mean[2], label=\"R\", color=\"blue\")\n",
    "plt.legend()"
   ]
  }
 ],
 "metadata": {
  "kernelspec": {
   "display_name": "Python 3",
   "language": "python",
   "name": "python3"
  },
  "language_info": {
   "codemirror_mode": {
    "name": "ipython",
    "version": 3
   },
   "file_extension": ".py",
   "mimetype": "text/x-python",
   "name": "python",
   "nbconvert_exporter": "python",
   "pygments_lexer": "ipython3",
   "version": "3.8.3"
  }
 },
 "nbformat": 4,
 "nbformat_minor": 4
}

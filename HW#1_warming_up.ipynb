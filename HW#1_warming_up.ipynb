{
 "cells": [
  {
   "cell_type": "code",
   "execution_count": 23,
   "metadata": {},
   "outputs": [
    {
     "name": "stdout",
     "output_type": "stream",
     "text": [
      "[2, 5, 17, 983]\n"
     ]
    }
   ],
   "source": [
    "import math \n",
    "\n",
    "def is_prime(num):\n",
    "    if num == 1 or num == 0:\n",
    "        return False\n",
    "    \n",
    "    # divider cannot be bigger than square root of num\n",
    "    for divider in range(2, math.floor(math.sqrt(num)) + 1):\n",
    "        if (num % divider == 0):\n",
    "            return False\n",
    "    return True\n",
    "\n",
    "def return_prime_numbers(num_list):\n",
    "    prime_list = []\n",
    "    for num in num_list:\n",
    "        if(is_prime(num)):\n",
    "            prime_list.append(num)\n",
    "    return prime_list\n",
    "\n",
    "print(return_prime_numbers([2,5,17,100,983,1000]))\n",
    "\n",
    "#for num in range(100):\n",
    "#    print(num, is_prime(num))"
   ]
  }
 ],
 "metadata": {
  "kernelspec": {
   "display_name": "Python 3",
   "language": "python",
   "name": "python3"
  },
  "language_info": {
   "codemirror_mode": {
    "name": "ipython",
    "version": 3
   },
   "file_extension": ".py",
   "mimetype": "text/x-python",
   "name": "python",
   "nbconvert_exporter": "python",
   "pygments_lexer": "ipython3",
   "version": "3.8.3"
  }
 },
 "nbformat": 4,
 "nbformat_minor": 4
}

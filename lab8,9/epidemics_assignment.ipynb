{
 "cells": [
  {
   "cell_type": "markdown",
   "metadata": {},
   "source": [
    "# Epidemics on networks: the SI model\n",
    "The goal of this assignment will be to implement a working SIS model on a network and reproduce a figure from this week's readings. We will start with an SI model as a template which you can then expand upon to build the SIS model.\n",
    "\n",
    "I will put together a function that will be able to take as input networkx graphs. In the SI model, a fraction of nodes begin as infected and then new infections spread throughout the network across the links with some probability `beta`. If the dice rolls out of the nodes favor then it becomes infected and can then infect other nodes that it neighbors.\n",
    "\n",
    "In a connected graph, the SI model should eventually infect everyone as t -> infinity because there will always be a non-zero probability of transmission. Alternatively, the SIS model will reach an equilibrium point where there is a balance between infections and reversions to susceptibility.\n",
    "\n",
    "Lets walk through building the SI model:"
   ]
  },
  {
   "cell_type": "code",
   "execution_count": 1,
   "metadata": {},
   "outputs": [],
   "source": [
    "# We will be using numpy and networkx for our function\n",
    "import networkx as nx\n",
    "import numpy as np"
   ]
  },
  {
   "cell_type": "code",
   "execution_count": 2,
   "metadata": {},
   "outputs": [],
   "source": [
    "# There will be 4 parameters for the model:\n",
    "# (graph) The networkx graph \n",
    "# (tmax) The maximum time that we will run the model \n",
    "# (beta) The transmission probability \n",
    "# (initial_inf) The initial fraction of infected nodes\n",
    "def SI(graph, tmax, beta, initial_inf):\n",
    "    inf_o = set(np.random.choice(graph.nodes(), size=int(len(graph) * initial_inf), replace=False))\n",
    "    nx.set_node_attributes(graph, {node: ([1] if node in inf_o else [0]) for node in graph.nodes()},'inf')\n",
    "    for t in range(tmax):\n",
    "        for node in graph.nodes():\n",
    "            if graph.nodes[node]['inf'][t] == 0:           \n",
    "                # First determine how many infected neighbors the node has at time t:\n",
    "                num_inf_neighbors = np.sum([ graph.nodes[neighbor]['inf'][t] for neighbor in graph.neighbors(node)])\n",
    "                # Instead of drawing a bunch of random numbers for each neighbor\n",
    "                # we  can just calculate the cumulative probability of getting\n",
    "                # infected since these events are independent and then just\n",
    "                # draw 1 random number to check against:\n",
    "                if np.random.random() < (1 - (1 - beta)**num_inf_neighbors):\n",
    "                    # If infection occurs we add a 1 to the state list of the node.\n",
    "                    # Note that by doing this we don't change how the other \n",
    "                    # nodes update, because they will be using time index t not t+1\n",
    "                    graph.nodes[node]['inf'].append(1)\n",
    "                    \n",
    "                else:\n",
    "                    # If no infection occurs, then just append the current state\n",
    "                    graph.nodes[node]['inf'].append(graph.nodes[node]['inf'][t])\n",
    "                    \n",
    "            # Similarly, if the node is already infected it can't change back\n",
    "            # So we append the current state if it wasn't susceptible\n",
    "            else:\n",
    "                graph.nodes[node]['inf'].append(graph.nodes[node]['inf'][t])\n",
    "                \n",
    "    # Once the updates have run their course for all nodes up to tmax we can\n",
    "    # return the time-series of the fraction of infected nodes\n",
    "    # It is easy to calculate because I let infected be 1, so the \n",
    "    # fraction infected is just the mean of the population at time t:\n",
    "    return [ np.mean([ graph.nodes[node]['inf'][t] for node in graph.nodes() ]) for t in range(tmax)]"
   ]
  },
  {
   "cell_type": "markdown",
   "metadata": {},
   "source": [
    "And there we have our SI model. The function is mostly comments, there are only a dozen lines of code involved in the whole process. Lets give it a run:"
   ]
  },
  {
   "cell_type": "code",
   "execution_count": 3,
   "metadata": {},
   "outputs": [],
   "source": [
    "# Lets generate a random graph for testing\n",
    "rnd_graph = nx.erdos_renyi_graph(100, 0.1)\n",
    "\n",
    "# We want to make sure that the graph is connected, so we will only take the largest\n",
    "# connected component, as disconnected parts can't be infected or transmit infection:\n",
    "largest_component = max(nx.connected_components(rnd_graph), key=len)\n",
    "# above returns a set of nodes, so we use it to creat a subgraph\n",
    "largest_component = rnd_graph.subgraph(largest_component)"
   ]
  },
  {
   "cell_type": "code",
   "execution_count": 4,
   "metadata": {},
   "outputs": [
    {
     "data": {
      "text/plain": [
       "<networkx.classes.graph.Graph at 0x7f9ae28e0070>"
      ]
     },
     "execution_count": 4,
     "metadata": {},
     "output_type": "execute_result"
    }
   ],
   "source": [
    "largest_component"
   ]
  },
  {
   "cell_type": "code",
   "execution_count": 5,
   "metadata": {},
   "outputs": [],
   "source": [
    "# Now lets plot it\n",
    "%matplotlib inline\n",
    "import matplotlib.pyplot as plt"
   ]
  },
  {
   "cell_type": "code",
   "execution_count": 6,
   "metadata": {},
   "outputs": [
    {
     "data": {
      "text/plain": [
       "[<matplotlib.lines.Line2D at 0x7f9ae3768df0>]"
      ]
     },
     "execution_count": 6,
     "metadata": {},
     "output_type": "execute_result"
    },
    {
     "data": {
      "image/png": "[encoded data removed]",
      "text/plain": [
       "<Figure size 432x288 with 1 Axes>"
      ]
     },
     "metadata": {
      "needs_background": "light"
     },
     "output_type": "display_data"
    }
   ],
   "source": [
    "plt.plot(SI(largest_component, tmax=20, beta=0.05, initial_inf=0.1))"
   ]
  },
  {
   "cell_type": "code",
   "execution_count": 7,
   "metadata": {},
   "outputs": [
    {
     "data": {
      "text/plain": [
       "[<matplotlib.lines.Line2D at 0x7f9ae37fab50>]"
      ]
     },
     "execution_count": 7,
     "metadata": {},
     "output_type": "execute_result"
    },
    {
     "data": {
      "image/png": "[encoded data removed]",
      "text/plain": [
       "<Figure size 432x288 with 1 Axes>"
      ]
     },
     "metadata": {
      "needs_background": "light"
     },
     "output_type": "display_data"
    }
   ],
   "source": [
    "# Since it is a random process we want to do a couple\n",
    "# sample runs to smooth out the curve\n",
    "\n",
    "plt.plot( np.mean([SI(rnd_graph, tmax=20, beta=0.05, initial_inf=0.1) for i in range(50)], axis=0) )"
   ]
  },
  {
   "cell_type": "markdown",
   "metadata": {},
   "source": [
    "The axis argument in `numpy.mean` tells you which axis to apply the average over, since we have a two-dimensional array (time on one axis and trials on the other). If I picked `axis=1` instead, it would have run the average over time rather than the number of trials.\n",
    "\n",
    "This curve is much smoother than the previous one. You will find that this sort of averaging over trials is necessary when dealing with noisy or random models.\n",
    "\n",
    "We can see that at 10% initial infected population and an infection rate of 5% we infect the whole 100 node network within 20 time steps. Most of the growth occurs in the middle after the disease ramps up, and then slows as most of the population is already infected."
   ]
  },
  {
   "cell_type": "markdown",
   "metadata": {},
   "source": [
    "# Assignment: Building the SIS model\n",
    "The example SI model should give you a good starting point from which to create the SIS version. In the SIS model, infected nodes can transform back to susceptible nodes, which means you will have one additional parameter that needs to be provided as an argument to the model. Lets call this probability of reversion `gamma`. You can either start with the SI function I provided and modify it into the SIS variant, or you can write your own function to taste. \n",
    "\n",
    "My implementation is simple but far from optimal, it will be slower to run on larger and more dense graphs. If you want more of a challenge try comming up with an SIS version that can run efficiently on larger graphs. This could be done by relying more heavily on numpy, which uses a c backend for array operations, or using a different network data structure.\n",
    "\n",
    "Here are your goals:\n",
    "\n",
    "1. Create an SIS version of the function, either by building off of mine or making your own from scratch.\n",
    "2. Plot your model's results (fraction of suspecitilbe and infectious population) using a fully connecte netowrk with nx.complete_graph(n) and play with the parameters `n`= 1000, `gamma`=0.04, `beta`=0.05, and `initial_inf`=0.1. Infected fraction at equalibram will be 1 - (0.8) = 0.2\n",
    "3. Plot your model's results using a fully connecte netowrk with nx.erdos_renyi_graph(n) and play with the parameters `n`= 1000, `p`= 0.1, `gamma`=0.04, `beta`=0.05, and `initial_inf`=0.1. Infected fraction at equalibram will be 1 - (0.8) = 0.2. Compare the result with problem 2, and leave the simple note in notebooks"
   ]
  },
  {
   "cell_type": "code",
   "execution_count": 42,
   "metadata": {},
   "outputs": [],
   "source": [
    "# We will be using numpy and networkx for our function\n",
    "import networkx as nx\n",
    "import numpy as np"
   ]
  },
  {
   "cell_type": "code",
   "execution_count": 43,
   "metadata": {},
   "outputs": [],
   "source": [
    "# There will be 5 parameters for the model:\n",
    "# (graph) The networkx graph \n",
    "# (tmax) The maximum time that we will run the model \n",
    "# (beta) The transmission probability \n",
    "# (gamma) The reversion probability\n",
    "# (initial_inf) The initial fraction of infected nodes\n",
    "def SIS(graph, tmax, beta, gamma, initial_inf):\n",
    "    inf_o = set(np.random.choice(graph.nodes(), size=int(len(graph) * initial_inf), replace=False))\n",
    "    nx.set_node_attributes(graph, {node: ([1] if node in inf_o else [0]) for node in graph.nodes()},'inf')\n",
    "    for t in range(tmax):\n",
    "        for node in graph.nodes():\n",
    "            if graph.nodes[node]['inf'][t] == 0:           \n",
    "                # First determine how many infected neighbors the node has at time t:\n",
    "                num_inf_neighbors = np.sum([ graph.nodes[neighbor]['inf'][t] for neighbor in graph.neighbors(node)])\n",
    "                # Instead of drawing a bunch of random numbers for each neighbor\n",
    "                # we  can just calculate the cumulative probability of getting\n",
    "                # infected since these events are independent and then just\n",
    "                # draw 1 random number to check against:\n",
    "                # if we get infected from more than one neighbor, then we get infected\n",
    "                # 1 - p(not getting infected for all neighbors) = p(getting infected)\n",
    "                if np.random.random() < (1 - (1 - beta)**num_inf_neighbors): \n",
    "                    # If infection occurs we add a 1 to the state list of the node.\n",
    "                    # Note that by doing this we don't change how the other \n",
    "                    # nodes update, because they will be using time index t not t+1\n",
    "                    graph.nodes[node]['inf'].append(1)\n",
    "                    \n",
    "                else:\n",
    "                    # If no infection occurs, then just append the current state\n",
    "                    graph.nodes[node]['inf'].append(graph.nodes[node]['inf'][t])\n",
    "                    \n",
    "            # if the node is already infected it can heal by probability gamma\n",
    "            else:\n",
    "                if np.random.random() < gamma:\n",
    "                    # heal\n",
    "                    graph.nodes[node]['inf'].append(0)\n",
    "                else:\n",
    "                    # no heal\n",
    "                    graph.nodes[node]['inf'].append(graph.nodes[node]['inf'][t])\n",
    "                \n",
    "    # Once the updates have run their course for all nodes up to tmax we can\n",
    "    # return the time-series of the fraction of infected nodes\n",
    "    # It is easy to calculate because I let infected be 1, so the \n",
    "    # fraction infected is just the mean of the population at time t:\n",
    "    return [ np.mean([ graph.nodes[node]['inf'][t] for node in graph.nodes() ]) for t in range(tmax)]"
   ]
  },
  {
   "cell_type": "code",
   "execution_count": 44,
   "metadata": {},
   "outputs": [],
   "source": [
    "# Now lets plot it\n",
    "%matplotlib inline\n",
    "import matplotlib.pyplot as plt"
   ]
  },
  {
   "cell_type": "code",
   "execution_count": 45,
   "metadata": {},
   "outputs": [
    {
     "data": {
      "text/plain": [
       "[<matplotlib.lines.Line2D at 0x29278bb41c0>]"
      ]
     },
     "execution_count": 45,
     "metadata": {},
     "output_type": "execute_result"
    },
    {
     "data": {
      "image/png": "[encoded data removed]",
      "text/plain": [
       "<Figure size 432x288 with 1 Axes>"
      ]
     },
     "metadata": {
      "needs_background": "light"
     },
     "output_type": "display_data"
    }
   ],
   "source": [
    "full_graph = nx.complete_graph(1000)\n",
    "\n",
    "plt.plot(SIS(full_graph, tmax=200, beta=0.05, gamma=0.04, initial_inf=0.1))\n",
    "#plt.plot( np.mean([SIS(full_graph, tmax=20, beta=0.05, gamma=0.04, initial_inf=0.1) for i in range(50)], axis=0) )"
   ]
  },
  {
   "cell_type": "code",
   "execution_count": 34,
   "metadata": {},
   "outputs": [
    {
     "data": {
      "text/plain": [
       "[<matplotlib.lines.Line2D at 0x292009d6a00>]"
      ]
     },
     "execution_count": 34,
     "metadata": {},
     "output_type": "execute_result"
    },
    {
     "data": {
      "image/png": "[encoded data removed]",
      "text/plain": [
       "<Figure size 432x288 with 1 Axes>"
      ]
     },
     "metadata": {
      "needs_background": "light"
     },
     "output_type": "display_data"
    }
   ],
   "source": [
    "rnd_graph = nx.erdos_renyi_graph(1000, 0.1)\n",
    "\n",
    "# We want to make sure that the graph is connected, so we will only take the largest\n",
    "# connected component, as disconnected parts can't be infected or transmit infection:\n",
    "largest_component = max(nx.connected_components(rnd_graph), key=len)\n",
    "# above returns a set of nodes, so we use it to creat a subgraph\n",
    "largest_component = rnd_graph.subgraph(largest_component)\n",
    "\n",
    "plt.plot(SIS(largest_component, tmax=200, beta=0.05, gamma=0.04, initial_inf=0.1))\n",
    "#plt.plot( np.mean([SIS(largest_component, tmax=20, beta=0.05, gamma=0.04, initial_inf=0.1) for i in range(50)], axis=0) )"
   ]
  },
  {
   "cell_type": "markdown",
   "metadata": {},
   "source": [
    "Comapared with the complete graph, the erdos-renyi graph takes more time to converge,  \n",
    "since it has fewer connections, so it is harder to get infected."
   ]
  }
 ],
 "metadata": {
  "anaconda-cloud": {},
  "kernelspec": {
   "display_name": "Python 3",
   "language": "python",
   "name": "python3"
  },
  "language_info": {
   "codemirror_mode": {
    "name": "ipython",
    "version": 3
   },
   "file_extension": ".py",
   "mimetype": "text/x-python",
   "name": "python",
   "nbconvert_exporter": "python",
   "pygments_lexer": "ipython3",
   "version": "3.8.3"
  }
 },
 "nbformat": 4,
 "nbformat_minor": 4
}
